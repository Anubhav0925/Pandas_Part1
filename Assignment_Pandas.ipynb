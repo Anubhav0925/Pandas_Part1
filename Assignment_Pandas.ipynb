{
 "cells": [
  {
   "cell_type": "markdown",
   "id": "2cb601a2-e3cc-45cd-97fa-c606f6b069e1",
   "metadata": {},
   "source": [
    "Q1. Create a Pandas Series that contains the following data: 4, 8, 15, 16, 23, and 42. Then, print the series."
   ]
  },
  {
   "cell_type": "code",
   "execution_count": 1,
   "id": "1579dfea-c543-47ee-b61f-b1ea55aca483",
   "metadata": {},
   "outputs": [
    {
     "name": "stdout",
     "output_type": "stream",
     "text": [
      "0     4\n",
      "1     8\n",
      "2    15\n",
      "3    16\n",
      "4    23\n",
      "5    42\n",
      "dtype: int64\n"
     ]
    }
   ],
   "source": [
    "#Solution \n",
    "import pandas as pd\n",
    "\n",
    "data = [4,8,15,16,23,42]\n",
    "ser = pd.Series(data)\n",
    "print(ser)"
   ]
  },
  {
   "cell_type": "markdown",
   "id": "8a59889b-5f6b-4735-91a8-0050f5a5c18a",
   "metadata": {},
   "source": [
    "Q2. Create a variable of list type containing 10 elements in it, and apply pandas.Series function on the\n",
    "variable print it."
   ]
  },
  {
   "cell_type": "code",
   "execution_count": 4,
   "id": "37e81b21-2ac6-4639-ab18-52c4c59c6735",
   "metadata": {},
   "outputs": [
    {
     "name": "stdout",
     "output_type": "stream",
     "text": [
      "0    a\n",
      "1    e\n",
      "2    i\n",
      "3    o\n",
      "4    u\n",
      "5    t\n",
      "6    p\n",
      "7    w\n",
      "8    q\n",
      "9    r\n",
      "dtype: object\n"
     ]
    }
   ],
   "source": [
    "#Solution\n",
    "import pandas as pd \n",
    "\n",
    "data = ['a','e','i','o','u','t','p','w','q','r']\n",
    "ser = pd.Series(data)\n",
    "print(ser)"
   ]
  },
  {
   "cell_type": "markdown",
   "id": "72fe8428-2a83-48ac-a85b-4471ca225d11",
   "metadata": {},
   "source": [
    "Q3. Create a Pandas DataFrame that contains the following data:\n",
    "    Name = ['Alice','Bob','Claire']\n",
    "    Age  = [25,30,27]\n",
    "    Gender = ['Female','Male','Female']\n",
    "    Then, print the DataFrame."
   ]
  },
  {
   "cell_type": "code",
   "execution_count": 7,
   "id": "2d77081f-bb5b-4aef-90df-acb86a8b3c28",
   "metadata": {},
   "outputs": [
    {
     "name": "stdout",
     "output_type": "stream",
     "text": [
      "     Name  Age  Gender\n",
      "0   Alice   25  Female\n",
      "1     Bob   30    Male\n",
      "2  Claire   27  Female\n"
     ]
    }
   ],
   "source": [
    "#Solution\n",
    "import pandas as pd\n",
    "data = { 'Name' : ['Alice','Bob','Claire'],\n",
    "         'Age' : [25,30,27],\n",
    "         'Gender' : ['Female','Male','Female']\n",
    "}\n",
    "\n",
    "ser = pd.DataFrame(data)\n",
    "print(ser)"
   ]
  },
  {
   "cell_type": "markdown",
   "id": "7796baf5-5570-492c-8b93-a016bf5c0d54",
   "metadata": {},
   "source": [
    "Q4. What is ‘DataFrame’ in pandas and how is it different from pandas.series? Explain with an example."
   ]
  },
  {
   "cell_type": "markdown",
   "id": "a0e9c344-e4bc-4124-8b43-a5e7ebf974c5",
   "metadata": {},
   "source": [
    "Answere :- DataFrame : A Pandas DataFrame is a 2 dimensional data structure, like a 2 dimensional array, or a table with rows and columns.\n",
    "\n",
    "Different from pandas.series :- \n",
    "\n",
    "1. Two-dimensional\n",
    "2. Heterogenous – DataFrame elements can have different data types.\n",
    "3. Size-mutable – Elements can be dropped or added in an existing DataFrame."
   ]
  },
  {
   "cell_type": "code",
   "execution_count": 4,
   "id": "9dca42bc-c360-497f-909a-722702d15cc3",
   "metadata": {},
   "outputs": [
    {
     "name": "stdout",
     "output_type": "stream",
     "text": [
      "For DataFrame\n",
      "     Name  Age  Gender\n",
      "0   Alice   25  Female\n",
      "1     Bob   30    Male\n",
      "2  Claire   27  Female\n",
      "For Pandas.Series\n",
      "Name        [Alice, Bob, Claire]\n",
      "Age                 [25, 30, 27]\n",
      "Gender    [Female, Male, Female]\n",
      "dtype: object\n"
     ]
    }
   ],
   "source": [
    "#Example \n",
    "# for DataFram\n",
    "print(\"For DataFrame\")\n",
    "import pandas as pd\n",
    "data = { 'Name' : ['Alice','Bob','Claire'],\n",
    "         'Age' : [25,30,27],\n",
    "         'Gender' : ['Female','Male','Female']\n",
    "}\n",
    "\n",
    "ser = pd.DataFrame(data)\n",
    "print(ser)\n",
    "# for pandas.Series\n",
    "print(\"For Pandas.Series\")\n",
    "import pandas as pd\n",
    "data = { 'Name' : ['Alice','Bob','Claire'],\n",
    "         'Age' : [25,30,27],\n",
    "         'Gender' : ['Female','Male','Female']\n",
    "}\n",
    "\n",
    "ser = pd.Series(data)\n",
    "print(ser)"
   ]
  },
  {
   "cell_type": "markdown",
   "id": "952239df-ca4a-47ea-8413-bb0d84ffc2f7",
   "metadata": {},
   "source": [
    "Q5. What are some common functions you can use to manipulate data in a Pandas DataFrame? Can\n",
    "you give an example of when you might use one of these functions?"
   ]
  },
  {
   "cell_type": "code",
   "execution_count": 17,
   "id": "c4de756b-9f6a-4901-ba30-6d390559d804",
   "metadata": {},
   "outputs": [
    {
     "name": "stdout",
     "output_type": "stream",
     "text": [
      "  x1  x2 x3  x4\n",
      "0  x  15  a  20\n",
      "1  y  16  b  18\n",
      "2  x  17  c  16\n",
      "3  y  18  d  14\n",
      "4  x  19  e  12\n",
      "5  x  20  f  10\n"
     ]
    }
   ],
   "source": [
    "#Answere :- DataFrame Manipulation Using pandas in Python:\n",
    "import pandas as pd\n",
    "data = pd.DataFrame({\"x1\":[\"x\", \"y\", \"x\", \"y\", \"x\", \"x\"],  # Create pandas DataFrame\n",
    "                     \"x2\":range(15, 21),\n",
    "                     \"x3\":[\"a\", \"b\", \"c\", \"d\", \"e\", \"f\"],\n",
    "                     \"x4\":range(20, 8, - 2)})\n",
    "print(data)\n"
   ]
  },
  {
   "cell_type": "code",
   "execution_count": 14,
   "id": "d77f7163-506b-4885-82f8-16e99ed90f41",
   "metadata": {},
   "outputs": [
    {
     "name": "stdout",
     "output_type": "stream",
     "text": [
      "  x1  x2  x4\n",
      "0  x  15  20\n",
      "1  y  16  18\n",
      "2  x  17  16\n",
      "3  y  18  14\n",
      "4  x  19  12\n",
      "5  x  20  10\n"
     ]
    }
   ],
   "source": [
    "#1. Remove Column from pandas DataFrame\n",
    "data_drop = data.drop(\"x3\", axis = 1) \n",
    "print(data_drop)"
   ]
  },
  {
   "cell_type": "code",
   "execution_count": 15,
   "id": "1e6a1a5a-9f0f-4af2-984c-51e027c9bf87",
   "metadata": {},
   "outputs": [
    {
     "name": "stdout",
     "output_type": "stream",
     "text": [
      "  x1  x2 x3  x4   x5\n",
      "0  x  15  a  20  foo\n",
      "1  y  16  b  18  bar\n",
      "2  x  17  c  16  foo\n",
      "3  y  18  d  14  bar\n",
      "4  x  19  e  12  foo\n",
      "5  x  20  f  10  bar\n"
     ]
    }
   ],
   "source": [
    "#2. Add New Column to pandas DataFrame\n",
    "x5 = [\"foo\", \"bar\", \"foo\", \"bar\", \"foo\", \"bar\"]            # Create list\n",
    "data_add = data.assign(x5 = x5)                            # Add new column\n",
    "print(data_add) "
   ]
  },
  {
   "cell_type": "code",
   "execution_count": 22,
   "id": "916a403f-4549-4787-a1ea-46b350f7dbc2",
   "metadata": {},
   "outputs": [
    {
     "name": "stdout",
     "output_type": "stream",
     "text": [
      "  x3   y1   y2\n",
      "0  c  101  foo\n",
      "1  d  102  bar\n",
      "2  e  103  foo\n",
      "3  f  104  bar\n",
      "4  g  105  foo\n",
      "5  h  106  foo\n",
      "    x1    x2 x3    x4     y1   y2\n",
      "0    x  15.0  a  20.0    NaN  NaN\n",
      "1    y  16.0  b  18.0    NaN  NaN\n",
      "2    x  17.0  c  16.0  101.0  foo\n",
      "3    y  18.0  d  14.0  102.0  bar\n",
      "4    x  19.0  e  12.0  103.0  foo\n",
      "5    x  20.0  f  10.0  104.0  bar\n",
      "6  NaN   NaN  g   NaN  105.0  foo\n",
      "7  NaN   NaN  h   NaN  106.0  foo\n"
     ]
    }
   ],
   "source": [
    "#3. Merge Two pandas DataFrames\n",
    "data_add = pd.DataFrame({\"x3\":[\"c\", \"d\", \"e\", \"f\", \"g\", \"h\"], # Create pandas DataFrame for merge\n",
    "                         \"y1\":range(101, 107),\n",
    "                         \"y2\":[\"foo\", \"bar\", \"foo\", \"bar\", \"foo\", \"foo\"]})\n",
    "print(data_add) \n",
    "data_merge = pd.merge(data,                                # Merge two pandas DataFrames\n",
    "                      data_add,\n",
    "                      on = \"x3\",\n",
    "                      how = \"outer\")\n",
    "print(data_merge)     "
   ]
  },
  {
   "cell_type": "code",
   "execution_count": 18,
   "id": "14aa268f-3a73-43cc-9f24-d77dda6cf800",
   "metadata": {},
   "outputs": [
    {
     "name": "stdout",
     "output_type": "stream",
     "text": [
      "  col1  col2 col3  col4\n",
      "0    x    15    a    20\n",
      "1    y    16    b    18\n",
      "2    x    17    c    16\n",
      "3    y    18    d    14\n",
      "4    x    19    e    12\n",
      "5    x    20    f    10\n"
     ]
    }
   ],
   "source": [
    " #4. Rename Columns of pandas DataFrame\n",
    "data_rename = data.copy()                                  # Create copy of DataFrame\n",
    "data_rename.columns = [\"col1\", \"col2\", \"col3\", \"col4\"]     # Use columns attribute\n",
    "print(data_rename)  "
   ]
  },
  {
   "cell_type": "markdown",
   "id": "e0061887-d58c-45ae-99ba-bf5492125d90",
   "metadata": {},
   "source": [
    "Q6. Which of the following is mutable in nature Series, DataFrame, Panel?"
   ]
  },
  {
   "cell_type": "markdown",
   "id": "5f17c28a-7188-4431-8d49-9b6f97b9fd94",
   "metadata": {},
   "source": [
    "Answere :- All Pandas data structures are value mutable (can be changed) and except Series all are size mutable. Series is size immutable."
   ]
  },
  {
   "cell_type": "markdown",
   "id": "940caa97-e973-45a8-a956-e7005fad95ba",
   "metadata": {},
   "source": [
    "Q7. Create a DataFrame using multiple Series. Explain with an example."
   ]
  },
  {
   "cell_type": "code",
   "execution_count": 23,
   "id": "d756dbaf-773d-49ca-b5c7-a2a6bb3dfdde",
   "metadata": {},
   "outputs": [
    {
     "name": "stdout",
     "output_type": "stream",
     "text": [
      "         0      1     2\n",
      "0    Spark  22000  1000\n",
      "1  PySpark  25000  2300\n",
      "2   Hadoop  23000  1000\n"
     ]
    }
   ],
   "source": [
    "#Answere :- \n",
    "import pandas as pd\n",
    "# Create pandas Series\n",
    "courses = pd.Series([\"Spark\",\"PySpark\",\"Hadoop\"])\n",
    "fees = pd.Series([22000,25000,23000])\n",
    "discount  = pd.Series([1000,2300,1000])\n",
    "\n",
    "# Combine two series.\n",
    "df=pd.concat([courses,fees],axis=1)\n",
    "\n",
    "# It also supports to combine multiple series.\n",
    "df=pd.concat([courses,fees,discount],axis=1)\n",
    "print(df)\n"
   ]
  },
  {
   "cell_type": "code",
   "execution_count": null,
   "id": "5285a068-434e-407c-bfdf-3d29498c29f0",
   "metadata": {},
   "outputs": [],
   "source": []
  }
 ],
 "metadata": {
  "kernelspec": {
   "display_name": "Python 3 (ipykernel)",
   "language": "python",
   "name": "python3"
  },
  "language_info": {
   "codemirror_mode": {
    "name": "ipython",
    "version": 3
   },
   "file_extension": ".py",
   "mimetype": "text/x-python",
   "name": "python",
   "nbconvert_exporter": "python",
   "pygments_lexer": "ipython3",
   "version": "3.10.8"
  }
 },
 "nbformat": 4,
 "nbformat_minor": 5
}
